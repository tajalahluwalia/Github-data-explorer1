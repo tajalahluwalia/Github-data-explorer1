{
 "cells": [
  {
   "cell_type": "markdown",
   "id": "a71065e2",
   "metadata": {},
   "source": [
    "## Read CSVs"
   ]
  },
  {
   "cell_type": "code",
   "execution_count": 1,
   "id": "ea44aa67",
   "metadata": {},
   "outputs": [
    {
     "name": "stdout",
     "output_type": "stream",
     "text": [
      "EDA.ipynb              t_change_report.html   t_people_report.html\r\n",
      "LICENSE                t_file_report.html     t_revision_report.html\r\n",
      "\u001b[34mcsv_files\u001b[m\u001b[m              t_history_report.html\r\n"
     ]
    }
   ],
   "source": [
    "!ls"
   ]
  },
  {
   "cell_type": "code",
   "execution_count": 2,
   "id": "1d4afead",
   "metadata": {},
   "outputs": [],
   "source": [
    "import pandas as pd"
   ]
  },
  {
   "cell_type": "code",
   "execution_count": 3,
   "id": "5279dd72",
   "metadata": {},
   "outputs": [],
   "source": [
    "t_file = pd.read_csv(\"csv_files/t_file.csv\")\n",
    "t_people = pd.read_csv(\"csv_files/t_people.csv\")\n",
    "t_change = pd.read_csv(\"csv_files/t_change.csv\")\n",
    "t_history = pd.read_csv(\"csv_files/t_history.csv\")\n",
    "t_revision = pd.read_csv(\"csv_files/t_revision.csv\")"
   ]
  },
  {
   "cell_type": "code",
   "execution_count": 4,
   "id": "3ffe5f97",
   "metadata": {},
   "outputs": [
    {
     "name": "stdout",
     "output_type": "stream",
     "text": [
      "shape of t_file : (1490072, 5)\n",
      "shape of t_people : (2534, 5)\n",
      "shape of t_change : (57376, 12)\n",
      "shape of t_history : (435814, 7)\n",
      "shape of t_revision : (106957, 15)\n"
     ]
    }
   ],
   "source": [
    "print(\"shape of t_file : {}\".format(t_file.shape))\n",
    "print(\"shape of t_people : {}\".format(t_people.shape))\n",
    "print(\"shape of t_change : {}\".format(t_change.shape))\n",
    "print(\"shape of t_history : {}\".format(t_history.shape))\n",
    "print(\"shape of t_revision : {}\".format(t_revision.shape))"
   ]
  },
  {
   "cell_type": "markdown",
   "id": "1daabf51",
   "metadata": {},
   "source": [
    "## Dtypes setup"
   ]
  },
  {
   "cell_type": "code",
   "execution_count": 5,
   "id": "91eb4841",
   "metadata": {},
   "outputs": [
    {
     "name": "stdout",
     "output_type": "stream",
     "text": [
      "t_file DTYPES\n",
      " id                  int64\n",
      "f_fileName         object\n",
      "f_linesInserted     int64\n",
      "f_linesDeleted      int64\n",
      "f_revisionId        int64\n",
      "dtype: object \n",
      "\n",
      "t_people DTYPES\n",
      " id              int64\n",
      "p_accountId     int64\n",
      "p_name         object\n",
      "p_email        object\n",
      "p_userName     object\n",
      "dtype: object \n",
      "\n",
      "t_change DTYPES\n",
      " id                      int64\n",
      "ch_id                  object\n",
      "ch_changeId            object\n",
      "ch_changeIdNum          int64\n",
      "ch_project             object\n",
      "ch_branch              object\n",
      "ch_topic               object\n",
      "ch_authorAccountId      int64\n",
      "ch_createdTime         object\n",
      "ch_updatedTime         object\n",
      "ch_status              object\n",
      "ch_mergeable          float64\n",
      "dtype: object \n",
      "\n",
      "t_history DTYPES\n",
      " id                        int64\n",
      "hist_id                  object\n",
      "hist_message             object\n",
      "hist_authorAccountId    float64\n",
      "hist_createdTime         object\n",
      "hist_patchSetNum          int64\n",
      "hist_changeId             int64\n",
      "dtype: object \n",
      "\n",
      "t_revision DTYPES\n",
      " id                         int64\n",
      "rev_id                    object\n",
      "rev_subject               object\n",
      "rev_message               object\n",
      "rev_authorUsername        object\n",
      "rev_createdTime           object\n",
      "rev_committerUsername     object\n",
      "rev_committedTime         object\n",
      "rev_ref                   object\n",
      "rev_git                  float64\n",
      "rev_repo                 float64\n",
      "rev_http                  object\n",
      "rev_ssh                  float64\n",
      "rev_patchSetNum            int64\n",
      "rev_changeId               int64\n",
      "dtype: object \n",
      "\n"
     ]
    }
   ],
   "source": [
    "print('t_file DTYPES\\n' , t_file.dtypes, '\\n')\n",
    "print('t_people DTYPES\\n' , t_people.dtypes, '\\n')\n",
    "print('t_change DTYPES\\n' , t_change.dtypes, '\\n')\n",
    "print('t_history DTYPES\\n' , t_history.dtypes, '\\n')\n",
    "print('t_revision DTYPES\\n' , t_revision.dtypes, '\\n')"
   ]
  },
  {
   "cell_type": "code",
   "execution_count": 6,
   "id": "153431bd",
   "metadata": {},
   "outputs": [
    {
     "name": "stdout",
     "output_type": "stream",
     "text": [
      "t_file Columns\n",
      " ['id' 'f_fileName' 'f_linesInserted' 'f_linesDeleted' 'f_revisionId'] \n",
      "\n",
      "t_people Columns\n",
      " ['id' 'p_accountId' 'p_name' 'p_email' 'p_userName'] \n",
      "\n",
      "t_change Columns\n",
      " ['id' 'ch_id' 'ch_changeId' 'ch_changeIdNum' 'ch_project' 'ch_branch'\n",
      " 'ch_topic' 'ch_authorAccountId' 'ch_createdTime' 'ch_updatedTime'\n",
      " 'ch_status' 'ch_mergeable'] \n",
      "\n",
      "t_history Columns\n",
      " ['id' 'hist_id' 'hist_message' 'hist_authorAccountId' 'hist_createdTime'\n",
      " 'hist_patchSetNum' 'hist_changeId'] \n",
      "\n",
      "t_revision Columns\n",
      " ['id' 'rev_id' 'rev_subject' 'rev_message' 'rev_authorUsername'\n",
      " 'rev_createdTime' 'rev_committerUsername' 'rev_committedTime' 'rev_ref'\n",
      " 'rev_git' 'rev_repo' 'rev_http' 'rev_ssh' 'rev_patchSetNum'\n",
      " 'rev_changeId'] \n",
      "\n"
     ]
    }
   ],
   "source": [
    "print('t_file Columns\\n' , t_file.columns.values, '\\n')\n",
    "print('t_people Columns\\n' , t_people.columns.values, '\\n')\n",
    "print('t_change Columns\\n' , t_change.columns.values, '\\n')\n",
    "print('t_history Columns\\n' , t_history.columns.values, '\\n')\n",
    "print('t_revision Columns\\n' , t_revision.columns.values, '\\n')"
   ]
  },
  {
   "cell_type": "code",
   "execution_count": 7,
   "id": "492fea99",
   "metadata": {},
   "outputs": [],
   "source": [
    "t_change.ch_createdTime = pd.to_datetime(t_change.ch_createdTime)\n",
    "t_change.ch_updatedTime = pd.to_datetime(t_change.ch_updatedTime)"
   ]
  },
  {
   "cell_type": "markdown",
   "id": "c37c8d73",
   "metadata": {},
   "source": [
    "## Import CSV into local in-memory sqlite server"
   ]
  },
  {
   "cell_type": "code",
   "execution_count": 8,
   "id": "d53d6781",
   "metadata": {},
   "outputs": [
    {
     "data": {
      "text/plain": [
       "<bound method Engine.connect of Engine(sqlite://)>"
      ]
     },
     "execution_count": 8,
     "metadata": {},
     "output_type": "execute_result"
    }
   ],
   "source": [
    "from sqlalchemy import create_engine\n",
    "engine = create_engine('sqlite://', echo=False)\n",
    "engine.connect"
   ]
  },
  {
   "cell_type": "code",
   "execution_count": null,
   "id": "cecfe423",
   "metadata": {},
   "outputs": [],
   "source": [
    "t_file.to_sql(\"t_file\", con= engine, if_exists='replace', index=False)\n",
    "t_people.to_sql(\"t_people\", con= engine, if_exists='replace', index=False)\n",
    "t_change.to_sql(\"t_change\", con= engine, if_exists='replace', index=False)\n",
    "t_history.to_sql(\"t_history\", con= engine, if_exists='replace', index=False)\n",
    "t_revision.to_sql(\"t_revision\", con= engine, if_exists='replace', index=False)"
   ]
  },
  {
   "cell_type": "markdown",
   "id": "b51ba3be",
   "metadata": {},
   "source": [
    "#### tables in the database"
   ]
  },
  {
   "cell_type": "code",
   "execution_count": null,
   "id": "9ced74ce",
   "metadata": {},
   "outputs": [],
   "source": [
    "engine.table_names()"
   ]
  },
  {
   "cell_type": "markdown",
   "id": "cfa08fcb",
   "metadata": {},
   "source": [
    "#### Schema"
   ]
  },
  {
   "cell_type": "code",
   "execution_count": null,
   "id": "71a64943",
   "metadata": {},
   "outputs": [],
   "source": [
    "from IPython.display import Image\n",
    "Image(url='https://image.slidesharecdn.com/msr16yang-160515235151/95/msr-2016-data-showcase-mining-code-review-repositories-11-638.jpg?cb=1463356751') "
   ]
  },
  {
   "cell_type": "markdown",
   "id": "934f159a",
   "metadata": {},
   "source": [
    "#### Query syntax"
   ]
  },
  {
   "cell_type": "code",
   "execution_count": null,
   "id": "8029fc61",
   "metadata": {},
   "outputs": [],
   "source": [
    "pd.read_sql(\n",
    "\"\"\"\n",
    "SELECT * FROM t_revision \n",
    ";\n",
    "\"\"\", con= engine).head(2)"
   ]
  },
  {
   "cell_type": "code",
   "execution_count": null,
   "id": "7464b585",
   "metadata": {},
   "outputs": [],
   "source": [
    "pd.read_sql(\n",
    "\"\"\"\n",
    "Select * from (SELECT hist_message , count(hist_message) as count_message\n",
    "FROM t_history \n",
    "group by 1\n",
    "ORDER BY 2 DESC) t \n",
    "WHERE count_message > 500\n",
    ";\n",
    "\n",
    "\"\"\"\n",
    "            , con = engine)\n",
    "\n",
    "# from the table, it is clear that the hist_message consists of these keywords:\n",
    "    # successfully merged\n",
    "    # Abandoned\n",
    "    # patch set "
   ]
  },
  {
   "cell_type": "code",
   "execution_count": null,
   "id": "bdb4a2ed",
   "metadata": {},
   "outputs": [],
   "source": []
  },
  {
   "cell_type": "code",
   "execution_count": null,
   "id": "a24e9439",
   "metadata": {},
   "outputs": [],
   "source": [
    "pd.read_sql(\"\"\"SELECT COUNT(*), ch_status FROM t_change GROUP BY ch_status;\n",
    "\n",
    "\"\"\", con = engine)"
   ]
  },
  {
   "cell_type": "code",
   "execution_count": null,
   "id": "6db3ec30",
   "metadata": {},
   "outputs": [],
   "source": [
    "t_change.head()"
   ]
  },
  {
   "cell_type": "code",
   "execution_count": null,
   "id": "38312ca8",
   "metadata": {},
   "outputs": [],
   "source": []
  },
  {
   "cell_type": "code",
   "execution_count": null,
   "id": "393626aa",
   "metadata": {},
   "outputs": [],
   "source": [
    "pd.read_sql(\"\"\"\n",
    "\n",
    "SELECT * FROM t_change order by ch_project, ch_updatedTime ;\n",
    "\n",
    "\"\"\", con = engine).head(5)"
   ]
  },
  {
   "cell_type": "code",
   "execution_count": null,
   "id": "86dcc108",
   "metadata": {},
   "outputs": [],
   "source": [
    "pd.read_sql(\"\"\"\n",
    "\n",
    "SELECT (julianday(ch_updatedTime) - julianday(ch_createdTime)) * 24 FROM t_change;\n",
    "\n",
    "\"\"\", con = engine).head(5)"
   ]
  },
  {
   "cell_type": "code",
   "execution_count": null,
   "id": "5efe7f02",
   "metadata": {},
   "outputs": [],
   "source": [
    "t_change.ch_updatedTime - t_change.ch_createdTime"
   ]
  },
  {
   "cell_type": "markdown",
   "id": "b19af2dc",
   "metadata": {},
   "source": [
    "## What percentage of code reviews gets merged?"
   ]
  },
  {
   "cell_type": "code",
   "execution_count": null,
   "id": "6d216c03",
   "metadata": {},
   "outputs": [],
   "source": [
    "pd.read_sql(\"\"\"\n",
    "SELECT \n",
    "ch_project,\n",
    "count(ch_changeId) as total_changes, \n",
    "sum(case when ch_status = 'MERGED' then 1 else 0 end) as Total_Merged\n",
    "from t_change \n",
    "group by 1\n",
    "order by 2 desc;\n",
    "\n",
    "\"\"\", con = engine)"
   ]
  },
  {
   "cell_type": "code",
   "execution_count": null,
   "id": "3a022622",
   "metadata": {},
   "outputs": [],
   "source": [
    "merged_ = pd.read_sql(\"\"\"\n",
    "SELECT \n",
    "ch_project,\n",
    "count(*) as total_changes, \n",
    "sum(case when ch_status = 'MERGED' then 1 else 0 end) as Total_Merged,\n",
    "sum(case when ch_status = 'ABANDONED' then 1 else 0 end) as Total_abandoned\n",
    "from (SELECT distinct \n",
    "ch_project\n",
    ", ch_branch\n",
    ", ch_topic\n",
    ", ch_authorAccountId\n",
    ", ch_createdTime\n",
    ", ch_updatedTime\n",
    ", ch_status\n",
    "\n",
    "FROM t_change) \n",
    "group by 1;\n",
    "\n",
    "\"\"\", con = engine)"
   ]
  },
  {
   "cell_type": "code",
   "execution_count": null,
   "id": "e9ac8347",
   "metadata": {},
   "outputs": [],
   "source": [
    "merged_['pct_merged'] = merged_['Total_Merged'] / merged_['total_changes'] * 100\n",
    "merged_['pct_abandoned'] = merged_['Total_abandoned'] / merged_['total_changes'] * 100"
   ]
  },
  {
   "cell_type": "code",
   "execution_count": null,
   "id": "e94be1c1",
   "metadata": {},
   "outputs": [],
   "source": [
    "import matplotlib.pyplot as plt\n",
    "import seaborn as sns\n",
    "\n",
    "merged_[merged_['total_changes'] > 20].pct_merged.hist(bins = 50\n",
    "                                                       , color = 'b'\n",
    "                                                       , figsize = (5,3)\n",
    "                                                       , legend = True)\n",
    "plt.show()\n",
    "\n",
    "merged_[merged_['total_changes'] > 20].pct_abandoned.hist(bins = 50\n",
    "                                                          , color = 'r'\n",
    "                                                          , figsize = (5,3)\n",
    "                                                          , legend = True)\n",
    "plt.show()"
   ]
  },
  {
   "cell_type": "code",
   "execution_count": null,
   "id": "1c58fc7c",
   "metadata": {},
   "outputs": [],
   "source": [
    "print(\"percent merged \" + str(round(merged_[merged_['total_changes'] > 20].pct_merged.mean(), 2)) + \"%\")\n",
    "print(\"percent abandoned \" + str(round(merged_[merged_['total_changes'] > 20].pct_abandoned.mean(), 2)) + \"%\")"
   ]
  },
  {
   "cell_type": "code",
   "execution_count": null,
   "id": "8d8bdc5d",
   "metadata": {},
   "outputs": [],
   "source": []
  },
  {
   "cell_type": "code",
   "execution_count": null,
   "id": "fe1af15f",
   "metadata": {},
   "outputs": [],
   "source": [
    "# example project = midonet/midonet\n",
    "\n",
    "pd.read_sql(\"\"\"\n",
    "SELECT distinct \n",
    "ch_project\n",
    ", ch_branch\n",
    ", ch_topic\n",
    ", ch_authorAccountId\n",
    ", ch_createdTime\n",
    ", ch_updatedTime\n",
    ", ch_status\n",
    "\n",
    "FROM t_change \n",
    "WHERE ch_project = 'midonet/midonet'\n",
    "ORDER BY ch_updatedTime\n",
    ";\n",
    "\n",
    "\"\"\", con = engine)"
   ]
  },
  {
   "cell_type": "code",
   "execution_count": null,
   "id": "f12c7fe4",
   "metadata": {},
   "outputs": [],
   "source": []
  },
  {
   "cell_type": "code",
   "execution_count": null,
   "id": "665462af",
   "metadata": {},
   "outputs": [],
   "source": []
  },
  {
   "cell_type": "code",
   "execution_count": null,
   "id": "10ff8451",
   "metadata": {},
   "outputs": [],
   "source": []
  }
 ],
 "metadata": {
  "kernelspec": {
   "display_name": "Python 3",
   "language": "python",
   "name": "python3"
  },
  "language_info": {
   "codemirror_mode": {
    "name": "ipython",
    "version": 3
   },
   "file_extension": ".py",
   "mimetype": "text/x-python",
   "name": "python",
   "nbconvert_exporter": "python",
   "pygments_lexer": "ipython3",
   "version": "3.8.8"
  }
 },
 "nbformat": 4,
 "nbformat_minor": 5
}
