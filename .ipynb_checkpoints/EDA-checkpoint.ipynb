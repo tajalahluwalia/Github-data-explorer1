{
 "cells": [
  {
   "cell_type": "markdown",
   "id": "a71065e2",
   "metadata": {},
   "source": [
    "## Read CSVs"
   ]
  },
  {
   "cell_type": "code",
   "execution_count": 159,
   "id": "568444a8",
   "metadata": {},
   "outputs": [
    {
     "name": "stdout",
     "output_type": "stream",
     "text": [
      "EDA.ipynb              t_change_report.html   t_people_report.html\r\n",
      "LICENSE                t_file_report.html     t_revision_report.html\r\n",
      "\u001b[34mcsv_files\u001b[m\u001b[m              t_history_report.html\r\n"
     ]
    }
   ],
   "source": [
    "!ls"
   ]
  },
  {
   "cell_type": "code",
   "execution_count": null,
   "id": "ef18ad16",
   "metadata": {},
   "outputs": [],
   "source": [
    "# to download the data go to https://kin-y.github.io/miningReviewRepo/"
   ]
  },
  {
   "cell_type": "code",
   "execution_count": 160,
   "id": "1d4afead",
   "metadata": {},
   "outputs": [],
   "source": [
    "import pandas as pd"
   ]
  },
  {
   "cell_type": "code",
   "execution_count": 161,
   "id": "5279dd72",
   "metadata": {},
   "outputs": [],
   "source": [
    "t_file = pd.read_csv(\"csv_files/t_file.csv\")\n",
    "t_people = pd.read_csv(\"csv_files/t_people.csv\")\n",
    "t_change = pd.read_csv(\"csv_files/t_change.csv\")\n",
    "t_history = pd.read_csv(\"csv_files/t_history.csv\")\n",
    "t_revision = pd.read_csv(\"csv_files/t_revision.csv\")"
   ]
  },
  {
   "cell_type": "code",
   "execution_count": 162,
   "id": "3ffe5f97",
   "metadata": {},
   "outputs": [
    {
     "name": "stdout",
     "output_type": "stream",
     "text": [
      "shape of t_file : (1490072, 5)\n",
      "shape of t_people : (2534, 5)\n",
      "shape of t_change : (57376, 12)\n",
      "shape of t_history : (435814, 7)\n",
      "shape of t_revision : (106957, 15)\n"
     ]
    }
   ],
   "source": [
    "print(\"shape of t_file : {}\".format(t_file.shape))\n",
    "print(\"shape of t_people : {}\".format(t_people.shape))\n",
    "print(\"shape of t_change : {}\".format(t_change.shape))\n",
    "print(\"shape of t_history : {}\".format(t_history.shape))\n",
    "print(\"shape of t_revision : {}\".format(t_revision.shape))"
   ]
  },
  {
   "cell_type": "markdown",
   "id": "1daabf51",
   "metadata": {},
   "source": [
    "## Dtypes setup"
   ]
  },
  {
   "cell_type": "code",
   "execution_count": 95,
   "id": "492fea99",
   "metadata": {},
   "outputs": [],
   "source": [
    "# use pandas to_datetime function to convert the string datatype to datetime\n",
    "t_change.ch_createdTime = pd.to_datetime(t_change.ch_createdTime)\n",
    "t_change.ch_updatedTime = pd.to_datetime(t_change.ch_updatedTime)"
   ]
  },
  {
   "cell_type": "markdown",
   "id": "c37c8d73",
   "metadata": {},
   "source": [
    "## Import CSV into local in-memory sqlite server"
   ]
  },
  {
   "cell_type": "code",
   "execution_count": 163,
   "id": "d53d6781",
   "metadata": {},
   "outputs": [
    {
     "data": {
      "text/plain": [
       "<bound method Engine.connect of Engine(sqlite://)>"
      ]
     },
     "execution_count": 163,
     "metadata": {},
     "output_type": "execute_result"
    }
   ],
   "source": [
    "# use sqlalchemy to create a local sqlite engine and connect it to the notebook. \n",
    "\n",
    "from sqlalchemy import create_engine\n",
    "engine = create_engine('sqlite://', echo=False)\n",
    "engine.connect"
   ]
  },
  {
   "cell_type": "code",
   "execution_count": 164,
   "id": "cecfe423",
   "metadata": {},
   "outputs": [],
   "source": [
    "# use pandas to_sql function to convert the dataframe into a sql table\n",
    "\n",
    "t_file.to_sql(\"t_file\", con= engine, if_exists='replace', index=False)\n",
    "t_people.to_sql(\"t_people\", con= engine, if_exists='replace', index=False)\n",
    "t_change.to_sql(\"t_change\", con= engine, if_exists='replace', index=False)\n",
    "t_history.to_sql(\"t_history\", con= engine, if_exists='replace', index=False)\n",
    "t_revision.to_sql(\"t_revision\", con= engine, if_exists='replace', index=False)"
   ]
  },
  {
   "cell_type": "markdown",
   "id": "b51ba3be",
   "metadata": {},
   "source": [
    "#### tables in the database"
   ]
  },
  {
   "cell_type": "code",
   "execution_count": 165,
   "id": "9ced74ce",
   "metadata": {},
   "outputs": [
    {
     "name": "stderr",
     "output_type": "stream",
     "text": [
      "<ipython-input-165-d72bc75a6b62>:1: SADeprecationWarning: The Engine.table_names() method is deprecated and will be removed in a future release.  Please refer to Inspector.get_table_names(). (deprecated since: 1.4)\n",
      "  engine.table_names()\n"
     ]
    },
    {
     "data": {
      "text/plain": [
       "['t_change', 't_file', 't_history', 't_people', 't_revision']"
      ]
     },
     "execution_count": 165,
     "metadata": {},
     "output_type": "execute_result"
    }
   ],
   "source": [
    "# get all the table names in the engine\n",
    "engine.table_names()"
   ]
  },
  {
   "cell_type": "markdown",
   "id": "cfa08fcb",
   "metadata": {},
   "source": [
    "#### Schema"
   ]
  },
  {
   "cell_type": "code",
   "execution_count": 166,
   "id": "71a64943",
   "metadata": {},
   "outputs": [
    {
     "data": {
      "text/html": [
       "<img src=\"https://image.slidesharecdn.com/msr16yang-160515235151/95/msr-2016-data-showcase-mining-code-review-repositories-11-638.jpg?cb=1463356751\"/>"
      ],
      "text/plain": [
       "<IPython.core.display.Image object>"
      ]
     },
     "execution_count": 166,
     "metadata": {},
     "output_type": "execute_result"
    }
   ],
   "source": [
    "# display the schema diagram\n",
    "\n",
    "from IPython.display import Image\n",
    "Image(url='https://image.slidesharecdn.com/msr16yang-160515235151/95/msr-2016-data-showcase-mining-code-review-repositories-11-638.jpg?cb=1463356751') "
   ]
  },
  {
   "cell_type": "markdown",
   "id": "934f159a",
   "metadata": {},
   "source": [
    "#### Query syntax"
   ]
  },
  {
   "cell_type": "code",
   "execution_count": 167,
   "id": "8029fc61",
   "metadata": {},
   "outputs": [
    {
     "data": {
      "text/html": [
       "<div>\n",
       "<style scoped>\n",
       "    .dataframe tbody tr th:only-of-type {\n",
       "        vertical-align: middle;\n",
       "    }\n",
       "\n",
       "    .dataframe tbody tr th {\n",
       "        vertical-align: top;\n",
       "    }\n",
       "\n",
       "    .dataframe thead th {\n",
       "        text-align: right;\n",
       "    }\n",
       "</style>\n",
       "<table border=\"1\" class=\"dataframe\">\n",
       "  <thead>\n",
       "    <tr style=\"text-align: right;\">\n",
       "      <th></th>\n",
       "      <th>id</th>\n",
       "      <th>rev_id</th>\n",
       "      <th>rev_subject</th>\n",
       "      <th>rev_message</th>\n",
       "      <th>rev_authorUsername</th>\n",
       "      <th>rev_createdTime</th>\n",
       "      <th>rev_committerUsername</th>\n",
       "      <th>rev_committedTime</th>\n",
       "      <th>rev_ref</th>\n",
       "      <th>rev_git</th>\n",
       "      <th>rev_repo</th>\n",
       "      <th>rev_http</th>\n",
       "      <th>rev_ssh</th>\n",
       "      <th>rev_patchSetNum</th>\n",
       "      <th>rev_changeId</th>\n",
       "    </tr>\n",
       "  </thead>\n",
       "  <tbody>\n",
       "    <tr>\n",
       "      <th>0</th>\n",
       "      <td>1</td>\n",
       "      <td>663dd192a19e7ab1452668a3672fb467c8110e04</td>\n",
       "      <td>Add IP subnet utility method for converting lists</td>\n",
       "      <td>Add IP subnet utility method for converting li...</td>\n",
       "      <td>Alex Bikfalvi</td>\n",
       "      <td>2016-11-17 15:18:15</td>\n",
       "      <td>Alex Bikfalvi</td>\n",
       "      <td>2016-11-17 21:59:31</td>\n",
       "      <td>refs/changes/81/302681/1</td>\n",
       "      <td>None</td>\n",
       "      <td>None</td>\n",
       "      <td>https://review.gerrithub.io/midonet/midonet</td>\n",
       "      <td>None</td>\n",
       "      <td>1</td>\n",
       "      <td>1</td>\n",
       "    </tr>\n",
       "    <tr>\n",
       "      <th>1</th>\n",
       "      <td>2</td>\n",
       "      <td>fc9090c70665a19c44037113d5e3631e2c238aa8</td>\n",
       "      <td>Make FlowRecorder send records over TCP to Clio.</td>\n",
       "      <td>Make FlowRecorder send records over TCP to Cli...</td>\n",
       "      <td>Alexandre Fonseca</td>\n",
       "      <td>2016-11-18 11:18:02</td>\n",
       "      <td>Alexandre Fonseca</td>\n",
       "      <td>2016-11-18 11:19:30</td>\n",
       "      <td>refs/changes/12/302712/1</td>\n",
       "      <td>None</td>\n",
       "      <td>None</td>\n",
       "      <td>https://review.gerrithub.io/midonet/midonet</td>\n",
       "      <td>None</td>\n",
       "      <td>1</td>\n",
       "      <td>2</td>\n",
       "    </tr>\n",
       "  </tbody>\n",
       "</table>\n",
       "</div>"
      ],
      "text/plain": [
       "   id                                    rev_id  \\\n",
       "0   1  663dd192a19e7ab1452668a3672fb467c8110e04   \n",
       "1   2  fc9090c70665a19c44037113d5e3631e2c238aa8   \n",
       "\n",
       "                                         rev_subject  \\\n",
       "0  Add IP subnet utility method for converting lists   \n",
       "1   Make FlowRecorder send records over TCP to Clio.   \n",
       "\n",
       "                                         rev_message rev_authorUsername  \\\n",
       "0  Add IP subnet utility method for converting li...      Alex Bikfalvi   \n",
       "1  Make FlowRecorder send records over TCP to Cli...  Alexandre Fonseca   \n",
       "\n",
       "       rev_createdTime rev_committerUsername    rev_committedTime  \\\n",
       "0  2016-11-17 15:18:15         Alex Bikfalvi  2016-11-17 21:59:31   \n",
       "1  2016-11-18 11:18:02     Alexandre Fonseca  2016-11-18 11:19:30   \n",
       "\n",
       "                    rev_ref rev_git rev_repo  \\\n",
       "0  refs/changes/81/302681/1    None     None   \n",
       "1  refs/changes/12/302712/1    None     None   \n",
       "\n",
       "                                      rev_http rev_ssh  rev_patchSetNum  \\\n",
       "0  https://review.gerrithub.io/midonet/midonet    None                1   \n",
       "1  https://review.gerrithub.io/midonet/midonet    None                1   \n",
       "\n",
       "   rev_changeId  \n",
       "0             1  \n",
       "1             2  "
      ]
     },
     "execution_count": 167,
     "metadata": {},
     "output_type": "execute_result"
    }
   ],
   "source": [
    "use pandas sql method to read sql queries on the engine. \n",
    "\n",
    "\n",
    "pd.read_sql(\n",
    "\"\"\"\n",
    "SELECT * FROM t_revision \n",
    ";\n",
    "\"\"\", con= engine).head(2)\n",
    "\n",
    "# note that the output is a pandas dataframe and can be object referenced \n",
    "\n",
    "# t_revision_sql_result = pd.read_sql(\n",
    "# \"\"\"\n",
    "# SELECT * FROM t_revision \n",
    "# ;\n",
    "# \"\"\", con= engine).head(2)"
   ]
  },
  {
   "cell_type": "markdown",
   "id": "b19af2dc",
   "metadata": {},
   "source": [
    "## What percentage of code reviews gets merged?"
   ]
  },
  {
   "cell_type": "code",
   "execution_count": 106,
   "id": "3a022622",
   "metadata": {},
   "outputs": [],
   "source": [
    "merged_ = pd.read_sql(\"\"\"\n",
    "SELECT \n",
    "ch_project,\n",
    "count(*) as total_changes, \n",
    "sum(case when ch_status = 'MERGED' then 1 else 0 end) as Total_Merged,\n",
    "sum(case when ch_status = 'ABANDONED' then 1 else 0 end) as Total_abandoned\n",
    "from (SELECT distinct \n",
    "ch_project\n",
    ", ch_branch\n",
    ", ch_topic\n",
    ", ch_authorAccountId\n",
    ", ch_createdTime\n",
    ", ch_updatedTime\n",
    ", ch_status\n",
    "\n",
    "FROM t_change) \n",
    "group by 1;\n",
    "\n",
    "\"\"\", con = engine)"
   ]
  },
  {
   "cell_type": "code",
   "execution_count": 107,
   "id": "e9ac8347",
   "metadata": {},
   "outputs": [],
   "source": [
    "merged_['pct_merged'] = merged_['Total_Merged'] / merged_['total_changes'] * 100\n",
    "merged_['pct_abandoned'] = merged_['Total_abandoned'] / merged_['total_changes'] * 100"
   ]
  },
  {
   "cell_type": "code",
   "execution_count": 108,
   "id": "e94be1c1",
   "metadata": {},
   "outputs": [
    {
     "data": {
      "image/png": "[encoded data removed]",
      "text/plain": [
       "<Figure size 360x216 with 1 Axes>"
      ]
     },
     "metadata": {
      "needs_background": "light"
     },
     "output_type": "display_data"
    },
    {
     "data": {
      "image/png": "[encoded data removed]",
      "text/plain": [
       "<Figure size 360x216 with 1 Axes>"
      ]
     },
     "metadata": {
      "needs_background": "light"
     },
     "output_type": "display_data"
    }
   ],
   "source": [
    "import matplotlib.pyplot as plt\n",
    "import seaborn as sns\n",
    "\n",
    "merged_[merged_['total_changes'] > 20].pct_merged.hist(bins = 50\n",
    "                                                       , color = 'b'\n",
    "                                                       , figsize = (5,3)\n",
    "                                                       , legend = True)\n",
    "plt.show()\n",
    "\n",
    "merged_[merged_['total_changes'] > 20].pct_abandoned.hist(bins = 50\n",
    "                                                          , color = 'r'\n",
    "                                                          , figsize = (5,3)\n",
    "                                                          , legend = True)\n",
    "plt.show()"
   ]
  },
  {
   "cell_type": "markdown",
   "id": "ee632495",
   "metadata": {},
   "source": [
    "### Result"
   ]
  },
  {
   "cell_type": "code",
   "execution_count": 175,
   "id": "1c58fc7c",
   "metadata": {},
   "outputs": [
    {
     "name": "stdout",
     "output_type": "stream",
     "text": [
      "Average percent merged 73.05%\n",
      "Median percent merged 81.89%\n",
      "------------------------\n",
      "Average percent abandoned 18.94%\n",
      "Median percent abandoned 12.5%\n"
     ]
    }
   ],
   "source": [
    "print(\"Average percent merged \" + str(round(merged_[merged_['total_changes'] > 20].pct_merged.mean(), 2)) + \"%\")\n",
    "print(\"Median percent merged \" + str(round(merged_[merged_['total_changes'] > 20].pct_merged.median(), 2)) + \"%\")\n",
    "\n",
    "print(\"------------------------\")\n",
    "\n",
    "print(\"Average percent abandoned \" + str(round(merged_[merged_['total_changes'] > 20].pct_abandoned.mean(), 2)) + \"%\")\n",
    "print(\"Median percent abandoned \" + str(round(merged_[merged_['total_changes'] > 20].pct_abandoned.median(), 2)) + \"%\")"
   ]
  },
  {
   "cell_type": "markdown",
   "id": "3689e754",
   "metadata": {},
   "source": [
    "## How long does it take to get a code review merged?"
   ]
  },
  {
   "cell_type": "code",
   "execution_count": 194,
   "id": "22bf3d2c",
   "metadata": {},
   "outputs": [],
   "source": [
    "merged_time_ = pd.read_sql(\"\"\"\n",
    "SELECT \n",
    "ch_project\n",
    ", ch_branch\n",
    ", ch_topic\n",
    ", case when ch_status = 'MERGED' then min(ch_createdTime) else 0 end as first_ch_createdTime\n",
    ", case when ch_status = 'MERGED' then max(ch_updatedTime) else 0 end as last_ch_updatedTime\n",
    ", count(*) as total_changes\n",
    "\n",
    "from (SELECT distinct \n",
    "ch_project\n",
    ", ch_branch\n",
    ", ch_topic\n",
    ", ch_authorAccountId\n",
    ", ch_createdTime\n",
    ", ch_updatedTime\n",
    ", ch_status\n",
    "\n",
    "FROM t_change) \n",
    "group by 1, 2, 3;\n",
    "\n",
    "\"\"\", con = engine)"
   ]
  },
  {
   "cell_type": "code",
   "execution_count": 195,
   "id": "a20f6933",
   "metadata": {},
   "outputs": [],
   "source": [
    "merged_time_['first_ch_createdTime'] = pd.to_datetime(merged_time_.first_ch_createdTime)\n",
    "merged_time_['last_ch_updatedTime'] = pd.to_datetime(merged_time_.last_ch_updatedTime)\n"
   ]
  },
  {
   "cell_type": "code",
   "execution_count": 200,
   "id": "cace4294",
   "metadata": {},
   "outputs": [],
   "source": [
    "merged_time_['time_to_merge'] = (merged_time_.last_ch_updatedTime - merged_time_.first_ch_createdTime).dt.total_seconds() / 60 / 60 / 24"
   ]
  },
  {
   "cell_type": "code",
   "execution_count": 201,
   "id": "19128f19",
   "metadata": {},
   "outputs": [
    {
     "data": {
      "image/png": "[encoded data removed]",
      "text/plain": [
       "<Figure size 360x216 with 1 Axes>"
      ]
     },
     "metadata": {
      "needs_background": "light"
     },
     "output_type": "display_data"
    }
   ],
   "source": [
    "merged_time_[merged_time_['total_changes'] > 5].time_to_merge.hist(bins = 5\n",
    "                                                          , color = 'y'\n",
    "                                                          , figsize = (5,3)\n",
    "                                                          , legend = True)\n",
    "plt.show()"
   ]
  },
  {
   "cell_type": "markdown",
   "id": "e6222b18",
   "metadata": {},
   "source": [
    "### Result"
   ]
  },
  {
   "cell_type": "markdown",
   "id": "42b2d584",
   "metadata": {},
   "source": [
    "### Where total project changes are <= 10 "
   ]
  },
  {
   "cell_type": "code",
   "execution_count": 202,
   "id": "0bf64b8a",
   "metadata": {},
   "outputs": [
    {
     "name": "stdout",
     "output_type": "stream",
     "text": [
      "Average time to get merged 7.09 days\n",
      "Median time to get merged 0.11 days\n"
     ]
    }
   ],
   "source": [
    "print(\"Average time to get merged \" \n",
    "      + str(round(merged_time_[merged_time_['total_changes'] <= 10].time_to_merge.mean(), 2)) \n",
    "      + \" days\")\n",
    "print(\"Median time to get merged \" \n",
    "      + str(round(merged_time_[merged_time_['total_changes'] <= 10].time_to_merge.median(), 2)) \n",
    "      + \" days\")"
   ]
  },
  {
   "cell_type": "markdown",
   "id": "044a960a",
   "metadata": {},
   "source": [
    "### Where total project changes are > 10 "
   ]
  },
  {
   "cell_type": "code",
   "execution_count": 203,
   "id": "d18e19bf",
   "metadata": {},
   "outputs": [
    {
     "name": "stdout",
     "output_type": "stream",
     "text": [
      "Average time to get merged 87.63 days\n",
      "Median time to get merged 7.25 days\n"
     ]
    }
   ],
   "source": [
    "print(\"Average time to get merged \" \n",
    "      + str(round(merged_time_[merged_time_['total_changes'] > 10].time_to_merge.mean(), 2)) \n",
    "      + \" days\")\n",
    "print(\"Median time to get merged \" \n",
    "      + str(round(merged_time_[merged_time_['total_changes'] > 10].time_to_merge.median(), 2)) \n",
    "      + \" days\")"
   ]
  },
  {
   "cell_type": "code",
   "execution_count": null,
   "id": "fff021d8",
   "metadata": {},
   "outputs": [],
   "source": []
  },
  {
   "cell_type": "code",
   "execution_count": null,
   "id": "cbd49441",
   "metadata": {},
   "outputs": [],
   "source": []
  }
 ],
 "metadata": {
  "kernelspec": {
   "display_name": "Python 3",
   "language": "python",
   "name": "python3"
  },
  "language_info": {
   "codemirror_mode": {
    "name": "ipython",
    "version": 3
   },
   "file_extension": ".py",
   "mimetype": "text/x-python",
   "name": "python",
   "nbconvert_exporter": "python",
   "pygments_lexer": "ipython3",
   "version": "3.8.8"
  }
 },
 "nbformat": 4,
 "nbformat_minor": 5
}
